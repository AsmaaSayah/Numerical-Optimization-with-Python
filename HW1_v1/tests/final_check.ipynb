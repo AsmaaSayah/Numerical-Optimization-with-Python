{
 "cells": [
  {
   "cell_type": "code",
   "execution_count": 2,
   "metadata": {},
   "outputs": [
    {
     "name": "stdout",
     "output_type": "stream",
     "text": [
      "OK\n",
      "OK\n"
     ]
    }
   ],
   "source": [
    "import test_unconstrained_min"
   ]
  },
  {
   "cell_type": "code",
   "execution_count": 5,
   "metadata": {},
   "outputs": [
    {
     "name": "stderr",
     "output_type": "stream",
     "text": [
      "E\n",
      "======================================================================\n",
      "ERROR: test_minimization (HW1_v1.tests.test_unconstrained_min.TestUnconstrainedMin)\n",
      "----------------------------------------------------------------------\n",
      "Traceback (most recent call last):\n",
      "  File \"/workspaces/Numerical-Optimization-with-Python/HW1_v1/tests/test_unconstrained_min.py\", line 30, in test_minimization\n",
      "    x_opt, f_opt, success = minimizer.minimize(example_func, x0=[1, 1])\n",
      "TypeError: UnconstrainedMinimizer.minimize() missing 2 required positional arguments: 'grad' and 'hessian'\n",
      "\n",
      "----------------------------------------------------------------------\n",
      "Ran 1 test in 0.004s\n",
      "\n",
      "FAILED (errors=1)\n"
     ]
    },
    {
     "name": "stdout",
     "output_type": "stream",
     "text": [
      "OK_test1\n",
      "Running tests for quadratic example...\n",
      "<function quadratic_example at 0x70deb7e665f0>\n",
      "OK_unconstrained_min\n",
      "Some tests failed.\n"
     ]
    }
   ],
   "source": [
    "# Import necessary modules\n",
    "import unittest\n",
    "\n",
    "# Import your test case class\n",
    "from HW1_v1.tests.test_unconstrained_min import TestUnconstrainedMin\n",
    "\n",
    "# Create a test suite\n",
    "suite = unittest.TestLoader().loadTestsFromTestCase(TestUnconstrainedMin)\n",
    "\n",
    "# Create a test runner\n",
    "runner = unittest.TextTestRunner()\n",
    "\n",
    "# Run the test suite\n",
    "result = runner.run(suite)\n",
    "\n",
    "# Check the test result\n",
    "if result.wasSuccessful():\n",
    "    print(\"All tests passed!\")\n",
    "else:\n",
    "    print(\"Some tests failed.\")\n"
   ]
  }
 ],
 "metadata": {
  "language_info": {
   "name": "python"
  }
 },
 "nbformat": 4,
 "nbformat_minor": 2
}
